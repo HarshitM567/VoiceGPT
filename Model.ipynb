{
 "cells": [
  {
   "cell_type": "code",
   "id": "initial_id",
   "metadata": {
    "collapsed": true,
    "ExecuteTime": {
     "end_time": "2024-07-29T15:48:54.288602Z",
     "start_time": "2024-07-29T15:48:39.579021Z"
    }
   },
   "source": [
    "import os\n",
    "from openai import AzureOpenAI\n",
    "import json\n",
    "import requests\n",
    "import speech_recognition as sr\n",
    "import pyttsx3\n",
    "import PyPDF2\n",
    "\n",
    "with open('config.json', 'r') as config_file:\n",
    "    config = json.load(config_file)\n",
    "\n",
    "key = config['key']\n",
    "endpoint_url = config['endpoint_url']\n",
    "whisper_model = config['whisper_model']\n",
    "chat_model = config['chat_model']\n",
    "region = config['region']\n",
    "\n",
    "final_url = f\"{endpoint_url}/openai/deployments/{whisper_model}/audio/transcriptions?api-version=2023-09-01-preview\"\n",
    "\n",
    "headers = {\n",
    "    \"api-key\": key,\n",
    "}\n",
    "\n",
    "client = AzureOpenAI(\n",
    "    api_version=\"2024-02-01\",\n",
    "    azure_endpoint=endpoint_url,\n",
    "    api_key=key\n",
    ")\n",
    "\n",
    "recognizer = sr.Recognizer()\n",
    "engine = pyttsx3.init()\n",
    "\n",
    "\n",
    "def get_speech_input():\n",
    "    with sr.Microphone() as source:\n",
    "        print(\"Please say your prompt:\")\n",
    "        audio = recognizer.listen(source)\n",
    "        try:\n",
    "            prompt = recognizer.recognize_google(audio)\n",
    "            print(f\"You said: {prompt}\")\n",
    "            return prompt\n",
    "        except sr.UnknownValueError:\n",
    "            print(\"Sorry, I could not understand the audio.\")\n",
    "            return None\n",
    "        except sr.RequestError as e:\n",
    "            print(f\"Could not request results; {e}\")\n",
    "            return None\n",
    "\n",
    "\n",
    "def get_text_input():\n",
    "    prompt = input(\"Please type your prompt: \")\n",
    "    return prompt\n",
    "\n",
    "\n",
    "def get_document_input():\n",
    "    file_path = input(\"Please provide the path to the document: \").strip()\n",
    "    if file_path.endswith('.pdf'):\n",
    "        text = extract_text_from_pdf(file_path)\n",
    "    \n",
    "    else:\n",
    "        print(\"Unsupported document format. Please use PDF or DOCX.\")\n",
    "        return None\n",
    "\n",
    "    print(\"Document text extracted. Please provide a prompt related to the document:\")\n",
    "    prompt = input(\"Please type your prompt: \")\n",
    "    return f\"{text}\\n\\n{prompt}\"\n",
    "\n",
    "\n",
    "def extract_text_from_pdf(file_path):\n",
    "    text = \"\"\n",
    "    with open(file_path, 'rb') as file:\n",
    "        reader = PyPDF2.PdfReader(file)\n",
    "        for page_num in range(len(reader.pages)):\n",
    "            text += reader.pages[page_num].extract_text()\n",
    "    return text\n",
    "\n",
    "\n",
    "\n",
    "\n",
    "while True:\n",
    "    input_method = input(\n",
    "        \"Would you like to give your prompt via speech, text, or document? (speech/text/document): \").strip().lower()\n",
    "    if input_method == 'speech':\n",
    "        user_prompt = get_speech_input()\n",
    "    elif input_method == 'text':\n",
    "        user_prompt = get_text_input()\n",
    "    elif input_method == 'document':\n",
    "        user_prompt = get_document_input()\n",
    "    else:\n",
    "        print(\"Invalid input method. Please choose 'speech', 'text', or 'document'.\")\n",
    "        continue\n",
    "\n",
    "    if not user_prompt or user_prompt.lower() in ['bye', 'end', 'ok bye', 'exit']:\n",
    "        print(\"Exiting the process.\")\n",
    "        break\n",
    "\n",
    "    completion = client.chat.completions.create(\n",
    "        model=chat_model,\n",
    "        messages=[\n",
    "            {\"role\": \"system\", \"content\": \"You are a helpful assistant.\"},\n",
    "            {\"role\": \"user\", \"content\": user_prompt}\n",
    "        ]\n",
    "    )\n",
    "\n",
    "    response = completion.choices[0].message.content\n",
    "    print(response)\n",
    "    engine.say(response)\n",
    "    engine.runAndWait()"
   ],
   "outputs": [
    {
     "name": "stdout",
     "output_type": "stream",
     "text": [
      "Hello! How can I assist you today?\n",
      "Exiting the process.\n"
     ]
    }
   ],
   "execution_count": 3
  },
  {
   "metadata": {
    "ExecuteTime": {
     "end_time": "2024-07-29T07:39:50.378112Z",
     "start_time": "2024-07-29T07:39:50.363788Z"
    }
   },
   "cell_type": "code",
   "source": "",
   "id": "8b9009d5a5f4f8fa",
   "outputs": [],
   "execution_count": 1
  },
  {
   "metadata": {},
   "cell_type": "code",
   "outputs": [],
   "execution_count": null,
   "source": "",
   "id": "3cbde4bfcc41e1ee"
  }
 ],
 "metadata": {
  "kernelspec": {
   "display_name": "Python 3",
   "language": "python",
   "name": "python3"
  },
  "language_info": {
   "codemirror_mode": {
    "name": "ipython",
    "version": 2
   },
   "file_extension": ".py",
   "mimetype": "text/x-python",
   "name": "python",
   "nbconvert_exporter": "python",
   "pygments_lexer": "ipython2",
   "version": "2.7.6"
  }
 },
 "nbformat": 4,
 "nbformat_minor": 5
}
